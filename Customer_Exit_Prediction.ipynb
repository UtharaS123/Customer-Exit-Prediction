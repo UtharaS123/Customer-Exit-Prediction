{
  "nbformat": 4,
  "nbformat_minor": 0,
  "metadata": {
    "colab": {
      "provenance": [],
      "gpuType": "T4",
      "authorship_tag": "ABX9TyPWFN/nHhbo+0wGrW9yIZB2",
      "include_colab_link": true
    },
    "kernelspec": {
      "name": "python3",
      "display_name": "Python 3"
    },
    "language_info": {
      "name": "python"
    },
    "accelerator": "GPU"
  },
  "cells": [
    {
      "cell_type": "markdown",
      "metadata": {
        "id": "view-in-github",
        "colab_type": "text"
      },
      "source": [
        "<a href=\"https://colab.research.google.com/github/UtharaS123/Customer-Exit-Prediction/blob/main/Customer_Exit_Prediction.ipynb\" target=\"_parent\"><img src=\"https://colab.research.google.com/assets/colab-badge.svg\" alt=\"Open In Colab\"/></a>"
      ]
    },
    {
      "cell_type": "markdown",
      "source": [
        "Step 1 : Data Preprocessing"
      ],
      "metadata": {
        "id": "VNeRWyJk8JP5"
      }
    },
    {
      "cell_type": "code",
      "execution_count": 38,
      "metadata": {
        "id": "B3nHWPEnzAuW"
      },
      "outputs": [],
      "source": [
        "#importing libraries\n",
        "import numpy as np\n",
        "import matplotlib.pyplot as plt\n",
        "import pandas as pd\n"
      ]
    },
    {
      "cell_type": "code",
      "source": [
        "#Importing dataset\n",
        "dataset = pd.read_csv('BankCustomers.csv')\n",
        "X = dataset.iloc[:, 3:13].values\n",
        "y = dataset.iloc[:, 13].values\n"
      ],
      "metadata": {
        "id": "ROER7LRB0PpL"
      },
      "execution_count": 53,
      "outputs": []
    },
    {
      "cell_type": "code",
      "source": [
        "X = dataset.iloc[:, 3:13]\n",
        "#Keeping X as dataframe"
      ],
      "metadata": {
        "id": "Xsos40Ex6z7A"
      },
      "execution_count": 59,
      "outputs": []
    },
    {
      "cell_type": "code",
      "source": [
        "# convert categorical feature into dummy variables\n",
        "states = pd.get_dummies(X['Geography'], drop_first=True)\n",
        "gender = pd.get_dummies(X['Gender'], drop_first=True)\n",
        "X = pd.concat([X, states, gender], axis=1) #concatenate the remaining dummies columns\n",
        "X = X.drop(['Geography', 'Gender'], axis=1) # dropping the column as it is no longer required\n",
        "X = X.values\n"
      ],
      "metadata": {
        "id": "KH0lms586n7D"
      },
      "execution_count": 60,
      "outputs": []
    },
    {
      "cell_type": "markdown",
      "source": [
        "Splitting dataset into training and test set\n"
      ],
      "metadata": {
        "id": "pIHEotbZ8wUO"
      }
    },
    {
      "cell_type": "code",
      "source": [
        "from sklearn.model_selection import train_test_split\n",
        "X_train, X_test, y_train, y_test = train_test_split(X, y, test_size = 0.2, random_state = 0)\n"
      ],
      "metadata": {
        "id": "SyZqNdQ16yXU"
      },
      "execution_count": 61,
      "outputs": []
    },
    {
      "cell_type": "markdown",
      "source": [
        "feature scaling\n"
      ],
      "metadata": {
        "id": "AHLC1KSv9KCZ"
      }
    },
    {
      "cell_type": "code",
      "source": [
        "from sklearn.preprocessing import StandardScaler\n",
        "sc = StandardScaler()\n",
        "X_train = sc.fit_transform(X_train)\n",
        "X_test = sc.transform(X_test)"
      ],
      "metadata": {
        "id": "6vUJiJhz7G6G"
      },
      "execution_count": 64,
      "outputs": []
    },
    {
      "cell_type": "code",
      "source": [
        "import tensorflow as tf\n",
        "from tensorflow.keras.models import Sequential\n",
        "from tensorflow.keras.layers import Dense"
      ],
      "metadata": {
        "id": "9oj65U8_7Oje"
      },
      "execution_count": 66,
      "outputs": []
    },
    {
      "cell_type": "code",
      "source": [
        "# Build the model\n",
        "classifier = Sequential()\n",
        "classifier.add(Dense(units=6, activation='relu', input_dim=X_train.shape[1], kernel_initializer='uniform'))\n",
        "classifier.add(Dense(units=6, activation='relu', kernel_initializer='uniform'))\n",
        "classifier.add(Dense(units=1, activation='sigmoid', kernel_initializer='uniform'))"
      ],
      "metadata": {
        "colab": {
          "base_uri": "https://localhost:8080/"
        },
        "id": "gQkJavyd7ThE",
        "outputId": "9c4c0225-ac09-47d6-d732-60f664c45030"
      },
      "execution_count": 67,
      "outputs": [
        {
          "output_type": "stream",
          "name": "stderr",
          "text": [
            "/usr/local/lib/python3.11/dist-packages/keras/src/layers/core/dense.py:87: UserWarning: Do not pass an `input_shape`/`input_dim` argument to a layer. When using Sequential models, prefer using an `Input(shape)` object as the first layer in the model instead.\n",
            "  super().__init__(activity_regularizer=activity_regularizer, **kwargs)\n"
          ]
        }
      ]
    },
    {
      "cell_type": "code",
      "source": [
        "# Compile\n",
        "classifier.compile(optimizer='adam', loss='binary_crossentropy', metrics=['accuracy'])"
      ],
      "metadata": {
        "id": "vBuoAuV77YcY"
      },
      "execution_count": 69,
      "outputs": []
    },
    {
      "cell_type": "markdown",
      "source": [
        "Training"
      ],
      "metadata": {
        "id": "ciYiIRBQ9Xkk"
      }
    },
    {
      "cell_type": "code",
      "source": [
        "history = classifier.fit(X_train, y_train, batch_size=10, epochs=100, validation_split=0.2)"
      ],
      "metadata": {
        "colab": {
          "base_uri": "https://localhost:8080/"
        },
        "id": "_E5V6UH87a6y",
        "outputId": "e2c1970b-0c8e-4120-9e0f-d40a8e0294a8"
      },
      "execution_count": 70,
      "outputs": [
        {
          "output_type": "stream",
          "name": "stdout",
          "text": [
            "Epoch 1/100\n",
            "\u001b[1m640/640\u001b[0m \u001b[32m━━━━━━━━━━━━━━━━━━━━\u001b[0m\u001b[37m\u001b[0m \u001b[1m6s\u001b[0m 3ms/step - accuracy: 0.7912 - loss: 0.5734 - val_accuracy: 0.7969 - val_loss: 0.4395\n",
            "Epoch 2/100\n",
            "\u001b[1m640/640\u001b[0m \u001b[32m━━━━━━━━━━━━━━━━━━━━\u001b[0m\u001b[37m\u001b[0m \u001b[1m2s\u001b[0m 3ms/step - accuracy: 0.8009 - loss: 0.4268 - val_accuracy: 0.7969 - val_loss: 0.4324\n",
            "Epoch 3/100\n",
            "\u001b[1m640/640\u001b[0m \u001b[32m━━━━━━━━━━━━━━━━━━━━\u001b[0m\u001b[37m\u001b[0m \u001b[1m3s\u001b[0m 3ms/step - accuracy: 0.8043 - loss: 0.4130 - val_accuracy: 0.7969 - val_loss: 0.4284\n",
            "Epoch 4/100\n",
            "\u001b[1m640/640\u001b[0m \u001b[32m━━━━━━━━━━━━━━━━━━━━\u001b[0m\u001b[37m\u001b[0m \u001b[1m3s\u001b[0m 4ms/step - accuracy: 0.8009 - loss: 0.4242 - val_accuracy: 0.8169 - val_loss: 0.4252\n",
            "Epoch 5/100\n",
            "\u001b[1m640/640\u001b[0m \u001b[32m━━━━━━━━━━━━━━━━━━━━\u001b[0m\u001b[37m\u001b[0m \u001b[1m4s\u001b[0m 3ms/step - accuracy: 0.8208 - loss: 0.4174 - val_accuracy: 0.8263 - val_loss: 0.4226\n",
            "Epoch 6/100\n",
            "\u001b[1m640/640\u001b[0m \u001b[32m━━━━━━━━━━━━━━━━━━━━\u001b[0m\u001b[37m\u001b[0m \u001b[1m2s\u001b[0m 3ms/step - accuracy: 0.8266 - loss: 0.4233 - val_accuracy: 0.8288 - val_loss: 0.4205\n",
            "Epoch 7/100\n",
            "\u001b[1m640/640\u001b[0m \u001b[32m━━━━━━━━━━━━━━━━━━━━\u001b[0m\u001b[37m\u001b[0m \u001b[1m2s\u001b[0m 3ms/step - accuracy: 0.8333 - loss: 0.4072 - val_accuracy: 0.8275 - val_loss: 0.4193\n",
            "Epoch 8/100\n",
            "\u001b[1m640/640\u001b[0m \u001b[32m━━━━━━━━━━━━━━━━━━━━\u001b[0m\u001b[37m\u001b[0m \u001b[1m2s\u001b[0m 3ms/step - accuracy: 0.8394 - loss: 0.4005 - val_accuracy: 0.8250 - val_loss: 0.4175\n",
            "Epoch 9/100\n",
            "\u001b[1m640/640\u001b[0m \u001b[32m━━━━━━━━━━━━━━━━━━━━\u001b[0m\u001b[37m\u001b[0m \u001b[1m3s\u001b[0m 4ms/step - accuracy: 0.8397 - loss: 0.4043 - val_accuracy: 0.8256 - val_loss: 0.4167\n",
            "Epoch 10/100\n",
            "\u001b[1m640/640\u001b[0m \u001b[32m━━━━━━━━━━━━━━━━━━━━\u001b[0m\u001b[37m\u001b[0m \u001b[1m2s\u001b[0m 3ms/step - accuracy: 0.8338 - loss: 0.4158 - val_accuracy: 0.8275 - val_loss: 0.4159\n",
            "Epoch 11/100\n",
            "\u001b[1m640/640\u001b[0m \u001b[32m━━━━━━━━━━━━━━━━━━━━\u001b[0m\u001b[37m\u001b[0m \u001b[1m3s\u001b[0m 3ms/step - accuracy: 0.8372 - loss: 0.4093 - val_accuracy: 0.8294 - val_loss: 0.4152\n",
            "Epoch 12/100\n",
            "\u001b[1m640/640\u001b[0m \u001b[32m━━━━━━━━━━━━━━━━━━━━\u001b[0m\u001b[37m\u001b[0m \u001b[1m2s\u001b[0m 3ms/step - accuracy: 0.8333 - loss: 0.4153 - val_accuracy: 0.8269 - val_loss: 0.4150\n",
            "Epoch 13/100\n",
            "\u001b[1m640/640\u001b[0m \u001b[32m━━━━━━━━━━━━━━━━━━━━\u001b[0m\u001b[37m\u001b[0m \u001b[1m2s\u001b[0m 4ms/step - accuracy: 0.8399 - loss: 0.4055 - val_accuracy: 0.8244 - val_loss: 0.4152\n",
            "Epoch 14/100\n",
            "\u001b[1m640/640\u001b[0m \u001b[32m━━━━━━━━━━━━━━━━━━━━\u001b[0m\u001b[37m\u001b[0m \u001b[1m2s\u001b[0m 4ms/step - accuracy: 0.8355 - loss: 0.4053 - val_accuracy: 0.8294 - val_loss: 0.4132\n",
            "Epoch 15/100\n",
            "\u001b[1m640/640\u001b[0m \u001b[32m━━━━━━━━━━━━━━━━━━━━\u001b[0m\u001b[37m\u001b[0m \u001b[1m2s\u001b[0m 3ms/step - accuracy: 0.8389 - loss: 0.4057 - val_accuracy: 0.8269 - val_loss: 0.4124\n",
            "Epoch 16/100\n",
            "\u001b[1m640/640\u001b[0m \u001b[32m━━━━━━━━━━━━━━━━━━━━\u001b[0m\u001b[37m\u001b[0m \u001b[1m2s\u001b[0m 3ms/step - accuracy: 0.8270 - loss: 0.4195 - val_accuracy: 0.8225 - val_loss: 0.4133\n",
            "Epoch 17/100\n",
            "\u001b[1m640/640\u001b[0m \u001b[32m━━━━━━━━━━━━━━━━━━━━\u001b[0m\u001b[37m\u001b[0m \u001b[1m2s\u001b[0m 3ms/step - accuracy: 0.8368 - loss: 0.4057 - val_accuracy: 0.8263 - val_loss: 0.4112\n",
            "Epoch 18/100\n",
            "\u001b[1m640/640\u001b[0m \u001b[32m━━━━━━━━━━━━━━━━━━━━\u001b[0m\u001b[37m\u001b[0m \u001b[1m2s\u001b[0m 3ms/step - accuracy: 0.8440 - loss: 0.3936 - val_accuracy: 0.8288 - val_loss: 0.4108\n",
            "Epoch 19/100\n",
            "\u001b[1m640/640\u001b[0m \u001b[32m━━━━━━━━━━━━━━━━━━━━\u001b[0m\u001b[37m\u001b[0m \u001b[1m2s\u001b[0m 4ms/step - accuracy: 0.8309 - loss: 0.4134 - val_accuracy: 0.8269 - val_loss: 0.4116\n",
            "Epoch 20/100\n",
            "\u001b[1m640/640\u001b[0m \u001b[32m━━━━━━━━━━━━━━━━━━━━\u001b[0m\u001b[37m\u001b[0m \u001b[1m2s\u001b[0m 3ms/step - accuracy: 0.8328 - loss: 0.4050 - val_accuracy: 0.8275 - val_loss: 0.4103\n",
            "Epoch 21/100\n",
            "\u001b[1m640/640\u001b[0m \u001b[32m━━━━━━━━━━━━━━━━━━━━\u001b[0m\u001b[37m\u001b[0m \u001b[1m2s\u001b[0m 3ms/step - accuracy: 0.8382 - loss: 0.4080 - val_accuracy: 0.8263 - val_loss: 0.4104\n",
            "Epoch 22/100\n",
            "\u001b[1m640/640\u001b[0m \u001b[32m━━━━━━━━━━━━━━━━━━━━\u001b[0m\u001b[37m\u001b[0m \u001b[1m3s\u001b[0m 3ms/step - accuracy: 0.8346 - loss: 0.4046 - val_accuracy: 0.8294 - val_loss: 0.4098\n",
            "Epoch 23/100\n",
            "\u001b[1m640/640\u001b[0m \u001b[32m━━━━━━━━━━━━━━━━━━━━\u001b[0m\u001b[37m\u001b[0m \u001b[1m2s\u001b[0m 3ms/step - accuracy: 0.8406 - loss: 0.3912 - val_accuracy: 0.8300 - val_loss: 0.4100\n",
            "Epoch 24/100\n",
            "\u001b[1m640/640\u001b[0m \u001b[32m━━━━━━━━━━━━━━━━━━━━\u001b[0m\u001b[37m\u001b[0m \u001b[1m3s\u001b[0m 4ms/step - accuracy: 0.8282 - loss: 0.4146 - val_accuracy: 0.8275 - val_loss: 0.4102\n",
            "Epoch 25/100\n",
            "\u001b[1m640/640\u001b[0m \u001b[32m━━━━━━━━━━━━━━━━━━━━\u001b[0m\u001b[37m\u001b[0m \u001b[1m3s\u001b[0m 4ms/step - accuracy: 0.8220 - loss: 0.4204 - val_accuracy: 0.8288 - val_loss: 0.4088\n",
            "Epoch 26/100\n",
            "\u001b[1m640/640\u001b[0m \u001b[32m━━━━━━━━━━━━━━━━━━━━\u001b[0m\u001b[37m\u001b[0m \u001b[1m2s\u001b[0m 4ms/step - accuracy: 0.8354 - loss: 0.4032 - val_accuracy: 0.8294 - val_loss: 0.4101\n",
            "Epoch 27/100\n",
            "\u001b[1m640/640\u001b[0m \u001b[32m━━━━━━━━━━━━━━━━━━━━\u001b[0m\u001b[37m\u001b[0m \u001b[1m3s\u001b[0m 4ms/step - accuracy: 0.8376 - loss: 0.3999 - val_accuracy: 0.8269 - val_loss: 0.4086\n",
            "Epoch 28/100\n",
            "\u001b[1m640/640\u001b[0m \u001b[32m━━━━━━━━━━━━━━━━━━━━\u001b[0m\u001b[37m\u001b[0m \u001b[1m2s\u001b[0m 4ms/step - accuracy: 0.8312 - loss: 0.4024 - val_accuracy: 0.8263 - val_loss: 0.4082\n",
            "Epoch 29/100\n",
            "\u001b[1m640/640\u001b[0m \u001b[32m━━━━━━━━━━━━━━━━━━━━\u001b[0m\u001b[37m\u001b[0m \u001b[1m4s\u001b[0m 6ms/step - accuracy: 0.8336 - loss: 0.4130 - val_accuracy: 0.8281 - val_loss: 0.4100\n",
            "Epoch 30/100\n",
            "\u001b[1m640/640\u001b[0m \u001b[32m━━━━━━━━━━━━━━━━━━━━\u001b[0m\u001b[37m\u001b[0m \u001b[1m4s\u001b[0m 4ms/step - accuracy: 0.8411 - loss: 0.4036 - val_accuracy: 0.8263 - val_loss: 0.4086\n",
            "Epoch 31/100\n",
            "\u001b[1m640/640\u001b[0m \u001b[32m━━━━━━━━━━━━━━━━━━━━\u001b[0m\u001b[37m\u001b[0m \u001b[1m2s\u001b[0m 3ms/step - accuracy: 0.8366 - loss: 0.4077 - val_accuracy: 0.8294 - val_loss: 0.4090\n",
            "Epoch 32/100\n",
            "\u001b[1m640/640\u001b[0m \u001b[32m━━━━━━━━━━━━━━━━━━━━\u001b[0m\u001b[37m\u001b[0m \u001b[1m2s\u001b[0m 3ms/step - accuracy: 0.8401 - loss: 0.3971 - val_accuracy: 0.8281 - val_loss: 0.4087\n",
            "Epoch 33/100\n",
            "\u001b[1m640/640\u001b[0m \u001b[32m━━━━━━━━━━━━━━━━━━━━\u001b[0m\u001b[37m\u001b[0m \u001b[1m2s\u001b[0m 3ms/step - accuracy: 0.8358 - loss: 0.4009 - val_accuracy: 0.8275 - val_loss: 0.4075\n",
            "Epoch 34/100\n",
            "\u001b[1m640/640\u001b[0m \u001b[32m━━━━━━━━━━━━━━━━━━━━\u001b[0m\u001b[37m\u001b[0m \u001b[1m3s\u001b[0m 4ms/step - accuracy: 0.8398 - loss: 0.4011 - val_accuracy: 0.8281 - val_loss: 0.4079\n",
            "Epoch 35/100\n",
            "\u001b[1m640/640\u001b[0m \u001b[32m━━━━━━━━━━━━━━━━━━━━\u001b[0m\u001b[37m\u001b[0m \u001b[1m4s\u001b[0m 3ms/step - accuracy: 0.8321 - loss: 0.4062 - val_accuracy: 0.8288 - val_loss: 0.4088\n",
            "Epoch 36/100\n",
            "\u001b[1m640/640\u001b[0m \u001b[32m━━━━━━━━━━━━━━━━━━━━\u001b[0m\u001b[37m\u001b[0m \u001b[1m2s\u001b[0m 3ms/step - accuracy: 0.8420 - loss: 0.3953 - val_accuracy: 0.8263 - val_loss: 0.4079\n",
            "Epoch 37/100\n",
            "\u001b[1m640/640\u001b[0m \u001b[32m━━━━━━━━━━━━━━━━━━━━\u001b[0m\u001b[37m\u001b[0m \u001b[1m4s\u001b[0m 4ms/step - accuracy: 0.8347 - loss: 0.4013 - val_accuracy: 0.8281 - val_loss: 0.4075\n",
            "Epoch 38/100\n",
            "\u001b[1m640/640\u001b[0m \u001b[32m━━━━━━━━━━━━━━━━━━━━\u001b[0m\u001b[37m\u001b[0m \u001b[1m3s\u001b[0m 5ms/step - accuracy: 0.8386 - loss: 0.3932 - val_accuracy: 0.8263 - val_loss: 0.4083\n",
            "Epoch 39/100\n",
            "\u001b[1m640/640\u001b[0m \u001b[32m━━━━━━━━━━━━━━━━━━━━\u001b[0m\u001b[37m\u001b[0m \u001b[1m2s\u001b[0m 3ms/step - accuracy: 0.8352 - loss: 0.4046 - val_accuracy: 0.8306 - val_loss: 0.4078\n",
            "Epoch 40/100\n",
            "\u001b[1m640/640\u001b[0m \u001b[32m━━━━━━━━━━━━━━━━━━━━\u001b[0m\u001b[37m\u001b[0m \u001b[1m2s\u001b[0m 3ms/step - accuracy: 0.8392 - loss: 0.3936 - val_accuracy: 0.8269 - val_loss: 0.4080\n",
            "Epoch 41/100\n",
            "\u001b[1m640/640\u001b[0m \u001b[32m━━━━━━━━━━━━━━━━━━━━\u001b[0m\u001b[37m\u001b[0m \u001b[1m3s\u001b[0m 4ms/step - accuracy: 0.8357 - loss: 0.4019 - val_accuracy: 0.8288 - val_loss: 0.4077\n",
            "Epoch 42/100\n",
            "\u001b[1m640/640\u001b[0m \u001b[32m━━━━━━━━━━━━━━━━━━━━\u001b[0m\u001b[37m\u001b[0m \u001b[1m9s\u001b[0m 10ms/step - accuracy: 0.8285 - loss: 0.4091 - val_accuracy: 0.8300 - val_loss: 0.4069\n",
            "Epoch 43/100\n",
            "\u001b[1m640/640\u001b[0m \u001b[32m━━━━━━━━━━━━━━━━━━━━\u001b[0m\u001b[37m\u001b[0m \u001b[1m6s\u001b[0m 3ms/step - accuracy: 0.8339 - loss: 0.4040 - val_accuracy: 0.8300 - val_loss: 0.4082\n",
            "Epoch 44/100\n",
            "\u001b[1m640/640\u001b[0m \u001b[32m━━━━━━━━━━━━━━━━━━━━\u001b[0m\u001b[37m\u001b[0m \u001b[1m3s\u001b[0m 5ms/step - accuracy: 0.8368 - loss: 0.3936 - val_accuracy: 0.8288 - val_loss: 0.4077\n",
            "Epoch 45/100\n",
            "\u001b[1m640/640\u001b[0m \u001b[32m━━━━━━━━━━━━━━━━━━━━\u001b[0m\u001b[37m\u001b[0m \u001b[1m3s\u001b[0m 4ms/step - accuracy: 0.8292 - loss: 0.4160 - val_accuracy: 0.8288 - val_loss: 0.4077\n",
            "Epoch 46/100\n",
            "\u001b[1m640/640\u001b[0m \u001b[32m━━━━━━━━━━━━━━━━━━━━\u001b[0m\u001b[37m\u001b[0m \u001b[1m2s\u001b[0m 4ms/step - accuracy: 0.8387 - loss: 0.3938 - val_accuracy: 0.8269 - val_loss: 0.4070\n",
            "Epoch 47/100\n",
            "\u001b[1m640/640\u001b[0m \u001b[32m━━━━━━━━━━━━━━━━━━━━\u001b[0m\u001b[37m\u001b[0m \u001b[1m2s\u001b[0m 3ms/step - accuracy: 0.8252 - loss: 0.4072 - val_accuracy: 0.8281 - val_loss: 0.4074\n",
            "Epoch 48/100\n",
            "\u001b[1m640/640\u001b[0m \u001b[32m━━━━━━━━━━━━━━━━━━━━\u001b[0m\u001b[37m\u001b[0m \u001b[1m3s\u001b[0m 5ms/step - accuracy: 0.8378 - loss: 0.4075 - val_accuracy: 0.8269 - val_loss: 0.4092\n",
            "Epoch 49/100\n",
            "\u001b[1m640/640\u001b[0m \u001b[32m━━━━━━━━━━━━━━━━━━━━\u001b[0m\u001b[37m\u001b[0m \u001b[1m3s\u001b[0m 4ms/step - accuracy: 0.8286 - loss: 0.4083 - val_accuracy: 0.8281 - val_loss: 0.4083\n",
            "Epoch 50/100\n",
            "\u001b[1m640/640\u001b[0m \u001b[32m━━━━━━━━━━━━━━━━━━━━\u001b[0m\u001b[37m\u001b[0m \u001b[1m2s\u001b[0m 3ms/step - accuracy: 0.8382 - loss: 0.3977 - val_accuracy: 0.8281 - val_loss: 0.4076\n",
            "Epoch 51/100\n",
            "\u001b[1m640/640\u001b[0m \u001b[32m━━━━━━━━━━━━━━━━━━━━\u001b[0m\u001b[37m\u001b[0m \u001b[1m2s\u001b[0m 3ms/step - accuracy: 0.8307 - loss: 0.4122 - val_accuracy: 0.8300 - val_loss: 0.4083\n",
            "Epoch 52/100\n",
            "\u001b[1m640/640\u001b[0m \u001b[32m━━━━━━━━━━━━━━━━━━━━\u001b[0m\u001b[37m\u001b[0m \u001b[1m2s\u001b[0m 3ms/step - accuracy: 0.8370 - loss: 0.3944 - val_accuracy: 0.8288 - val_loss: 0.4082\n",
            "Epoch 53/100\n",
            "\u001b[1m640/640\u001b[0m \u001b[32m━━━━━━━━━━━━━━━━━━━━\u001b[0m\u001b[37m\u001b[0m \u001b[1m3s\u001b[0m 4ms/step - accuracy: 0.8436 - loss: 0.3941 - val_accuracy: 0.8269 - val_loss: 0.4074\n",
            "Epoch 54/100\n",
            "\u001b[1m640/640\u001b[0m \u001b[32m━━━━━━━━━━━━━━━━━━━━\u001b[0m\u001b[37m\u001b[0m \u001b[1m5s\u001b[0m 4ms/step - accuracy: 0.8302 - loss: 0.4055 - val_accuracy: 0.8281 - val_loss: 0.4072\n",
            "Epoch 55/100\n",
            "\u001b[1m640/640\u001b[0m \u001b[32m━━━━━━━━━━━━━━━━━━━━\u001b[0m\u001b[37m\u001b[0m \u001b[1m2s\u001b[0m 4ms/step - accuracy: 0.8266 - loss: 0.4132 - val_accuracy: 0.8281 - val_loss: 0.4107\n",
            "Epoch 56/100\n",
            "\u001b[1m640/640\u001b[0m \u001b[32m━━━━━━━━━━━━━━━━━━━━\u001b[0m\u001b[37m\u001b[0m \u001b[1m2s\u001b[0m 4ms/step - accuracy: 0.8320 - loss: 0.4044 - val_accuracy: 0.8288 - val_loss: 0.4082\n",
            "Epoch 57/100\n",
            "\u001b[1m640/640\u001b[0m \u001b[32m━━━━━━━━━━━━━━━━━━━━\u001b[0m\u001b[37m\u001b[0m \u001b[1m4s\u001b[0m 6ms/step - accuracy: 0.8439 - loss: 0.3837 - val_accuracy: 0.8306 - val_loss: 0.4090\n",
            "Epoch 58/100\n",
            "\u001b[1m640/640\u001b[0m \u001b[32m━━━━━━━━━━━━━━━━━━━━\u001b[0m\u001b[37m\u001b[0m \u001b[1m2s\u001b[0m 3ms/step - accuracy: 0.8327 - loss: 0.4011 - val_accuracy: 0.8306 - val_loss: 0.4079\n",
            "Epoch 59/100\n",
            "\u001b[1m640/640\u001b[0m \u001b[32m━━━━━━━━━━━━━━━━━━━━\u001b[0m\u001b[37m\u001b[0m \u001b[1m2s\u001b[0m 3ms/step - accuracy: 0.8309 - loss: 0.4047 - val_accuracy: 0.8288 - val_loss: 0.4075\n",
            "Epoch 60/100\n",
            "\u001b[1m640/640\u001b[0m \u001b[32m━━━━━━━━━━━━━━━━━━━━\u001b[0m\u001b[37m\u001b[0m \u001b[1m3s\u001b[0m 5ms/step - accuracy: 0.8313 - loss: 0.4044 - val_accuracy: 0.8300 - val_loss: 0.4084\n",
            "Epoch 61/100\n",
            "\u001b[1m640/640\u001b[0m \u001b[32m━━━━━━━━━━━━━━━━━━━━\u001b[0m\u001b[37m\u001b[0m \u001b[1m6s\u001b[0m 5ms/step - accuracy: 0.8399 - loss: 0.3985 - val_accuracy: 0.8313 - val_loss: 0.4072\n",
            "Epoch 62/100\n",
            "\u001b[1m640/640\u001b[0m \u001b[32m━━━━━━━━━━━━━━━━━━━━\u001b[0m\u001b[37m\u001b[0m \u001b[1m2s\u001b[0m 3ms/step - accuracy: 0.8395 - loss: 0.3999 - val_accuracy: 0.8300 - val_loss: 0.4071\n",
            "Epoch 63/100\n",
            "\u001b[1m640/640\u001b[0m \u001b[32m━━━━━━━━━━━━━━━━━━━━\u001b[0m\u001b[37m\u001b[0m \u001b[1m3s\u001b[0m 3ms/step - accuracy: 0.8345 - loss: 0.3968 - val_accuracy: 0.8288 - val_loss: 0.4065\n",
            "Epoch 64/100\n",
            "\u001b[1m640/640\u001b[0m \u001b[32m━━━━━━━━━━━━━━━━━━━━\u001b[0m\u001b[37m\u001b[0m \u001b[1m3s\u001b[0m 5ms/step - accuracy: 0.8287 - loss: 0.4009 - val_accuracy: 0.8281 - val_loss: 0.4063\n",
            "Epoch 65/100\n",
            "\u001b[1m640/640\u001b[0m \u001b[32m━━━━━━━━━━━━━━━━━━━━\u001b[0m\u001b[37m\u001b[0m \u001b[1m2s\u001b[0m 3ms/step - accuracy: 0.8250 - loss: 0.4181 - val_accuracy: 0.8281 - val_loss: 0.4070\n",
            "Epoch 66/100\n",
            "\u001b[1m640/640\u001b[0m \u001b[32m━━━━━━━━━━━━━━━━━━━━\u001b[0m\u001b[37m\u001b[0m \u001b[1m3s\u001b[0m 4ms/step - accuracy: 0.8291 - loss: 0.4031 - val_accuracy: 0.8281 - val_loss: 0.4076\n",
            "Epoch 67/100\n",
            "\u001b[1m640/640\u001b[0m \u001b[32m━━━━━━━━━━━━━━━━━━━━\u001b[0m\u001b[37m\u001b[0m \u001b[1m2s\u001b[0m 3ms/step - accuracy: 0.8410 - loss: 0.3938 - val_accuracy: 0.8281 - val_loss: 0.4073\n",
            "Epoch 68/100\n",
            "\u001b[1m640/640\u001b[0m \u001b[32m━━━━━━━━━━━━━━━━━━━━\u001b[0m\u001b[37m\u001b[0m \u001b[1m3s\u001b[0m 4ms/step - accuracy: 0.8305 - loss: 0.4027 - val_accuracy: 0.8313 - val_loss: 0.4066\n",
            "Epoch 69/100\n",
            "\u001b[1m640/640\u001b[0m \u001b[32m━━━━━━━━━━━━━━━━━━━━\u001b[0m\u001b[37m\u001b[0m \u001b[1m5s\u001b[0m 4ms/step - accuracy: 0.8410 - loss: 0.3959 - val_accuracy: 0.8294 - val_loss: 0.4065\n",
            "Epoch 70/100\n",
            "\u001b[1m640/640\u001b[0m \u001b[32m━━━━━━━━━━━━━━━━━━━━\u001b[0m\u001b[37m\u001b[0m \u001b[1m2s\u001b[0m 3ms/step - accuracy: 0.8421 - loss: 0.3921 - val_accuracy: 0.8300 - val_loss: 0.4070\n",
            "Epoch 71/100\n",
            "\u001b[1m640/640\u001b[0m \u001b[32m━━━━━━━━━━━━━━━━━━━━\u001b[0m\u001b[37m\u001b[0m \u001b[1m2s\u001b[0m 3ms/step - accuracy: 0.8384 - loss: 0.3932 - val_accuracy: 0.8294 - val_loss: 0.4068\n",
            "Epoch 72/100\n",
            "\u001b[1m640/640\u001b[0m \u001b[32m━━━━━━━━━━━━━━━━━━━━\u001b[0m\u001b[37m\u001b[0m \u001b[1m2s\u001b[0m 3ms/step - accuracy: 0.8358 - loss: 0.4036 - val_accuracy: 0.8319 - val_loss: 0.4068\n",
            "Epoch 73/100\n",
            "\u001b[1m640/640\u001b[0m \u001b[32m━━━━━━━━━━━━━━━━━━━━\u001b[0m\u001b[37m\u001b[0m \u001b[1m3s\u001b[0m 3ms/step - accuracy: 0.8346 - loss: 0.3985 - val_accuracy: 0.8294 - val_loss: 0.4065\n",
            "Epoch 74/100\n",
            "\u001b[1m640/640\u001b[0m \u001b[32m━━━━━━━━━━━━━━━━━━━━\u001b[0m\u001b[37m\u001b[0m \u001b[1m2s\u001b[0m 3ms/step - accuracy: 0.8351 - loss: 0.3965 - val_accuracy: 0.8281 - val_loss: 0.4068\n",
            "Epoch 75/100\n",
            "\u001b[1m640/640\u001b[0m \u001b[32m━━━━━━━━━━━━━━━━━━━━\u001b[0m\u001b[37m\u001b[0m \u001b[1m3s\u001b[0m 4ms/step - accuracy: 0.8290 - loss: 0.4096 - val_accuracy: 0.8300 - val_loss: 0.4067\n",
            "Epoch 76/100\n",
            "\u001b[1m640/640\u001b[0m \u001b[32m━━━━━━━━━━━━━━━━━━━━\u001b[0m\u001b[37m\u001b[0m \u001b[1m2s\u001b[0m 3ms/step - accuracy: 0.8361 - loss: 0.4005 - val_accuracy: 0.8300 - val_loss: 0.4056\n",
            "Epoch 77/100\n",
            "\u001b[1m640/640\u001b[0m \u001b[32m━━━━━━━━━━━━━━━━━━━━\u001b[0m\u001b[37m\u001b[0m \u001b[1m2s\u001b[0m 4ms/step - accuracy: 0.8364 - loss: 0.4070 - val_accuracy: 0.8294 - val_loss: 0.4059\n",
            "Epoch 78/100\n",
            "\u001b[1m640/640\u001b[0m \u001b[32m━━━━━━━━━━━━━━━━━━━━\u001b[0m\u001b[37m\u001b[0m \u001b[1m2s\u001b[0m 3ms/step - accuracy: 0.8330 - loss: 0.3964 - val_accuracy: 0.8300 - val_loss: 0.4060\n",
            "Epoch 79/100\n",
            "\u001b[1m640/640\u001b[0m \u001b[32m━━━━━━━━━━━━━━━━━━━━\u001b[0m\u001b[37m\u001b[0m \u001b[1m3s\u001b[0m 3ms/step - accuracy: 0.8329 - loss: 0.4049 - val_accuracy: 0.8294 - val_loss: 0.4074\n",
            "Epoch 80/100\n",
            "\u001b[1m640/640\u001b[0m \u001b[32m━━━━━━━━━━━━━━━━━━━━\u001b[0m\u001b[37m\u001b[0m \u001b[1m3s\u001b[0m 4ms/step - accuracy: 0.8422 - loss: 0.3902 - val_accuracy: 0.8288 - val_loss: 0.4063\n",
            "Epoch 81/100\n",
            "\u001b[1m640/640\u001b[0m \u001b[32m━━━━━━━━━━━━━━━━━━━━\u001b[0m\u001b[37m\u001b[0m \u001b[1m5s\u001b[0m 3ms/step - accuracy: 0.8401 - loss: 0.3936 - val_accuracy: 0.8288 - val_loss: 0.4062\n",
            "Epoch 82/100\n",
            "\u001b[1m640/640\u001b[0m \u001b[32m━━━━━━━━━━━━━━━━━━━━\u001b[0m\u001b[37m\u001b[0m \u001b[1m2s\u001b[0m 3ms/step - accuracy: 0.8308 - loss: 0.4088 - val_accuracy: 0.8300 - val_loss: 0.4070\n",
            "Epoch 83/100\n",
            "\u001b[1m640/640\u001b[0m \u001b[32m━━━━━━━━━━━━━━━━━━━━\u001b[0m\u001b[37m\u001b[0m \u001b[1m3s\u001b[0m 3ms/step - accuracy: 0.8330 - loss: 0.3963 - val_accuracy: 0.8288 - val_loss: 0.4058\n",
            "Epoch 84/100\n",
            "\u001b[1m640/640\u001b[0m \u001b[32m━━━━━━━━━━━━━━━━━━━━\u001b[0m\u001b[37m\u001b[0m \u001b[1m3s\u001b[0m 4ms/step - accuracy: 0.8405 - loss: 0.3920 - val_accuracy: 0.8313 - val_loss: 0.4058\n",
            "Epoch 85/100\n",
            "\u001b[1m640/640\u001b[0m \u001b[32m━━━━━━━━━━━━━━━━━━━━\u001b[0m\u001b[37m\u001b[0m \u001b[1m2s\u001b[0m 3ms/step - accuracy: 0.8406 - loss: 0.3878 - val_accuracy: 0.8281 - val_loss: 0.4061\n",
            "Epoch 86/100\n",
            "\u001b[1m640/640\u001b[0m \u001b[32m━━━━━━━━━━━━━━━━━━━━\u001b[0m\u001b[37m\u001b[0m \u001b[1m2s\u001b[0m 3ms/step - accuracy: 0.8470 - loss: 0.3857 - val_accuracy: 0.8306 - val_loss: 0.4054\n",
            "Epoch 87/100\n",
            "\u001b[1m640/640\u001b[0m \u001b[32m━━━━━━━━━━━━━━━━━━━━\u001b[0m\u001b[37m\u001b[0m \u001b[1m2s\u001b[0m 3ms/step - accuracy: 0.8432 - loss: 0.3932 - val_accuracy: 0.8294 - val_loss: 0.4065\n",
            "Epoch 88/100\n",
            "\u001b[1m640/640\u001b[0m \u001b[32m━━━━━━━━━━━━━━━━━━━━\u001b[0m\u001b[37m\u001b[0m \u001b[1m2s\u001b[0m 3ms/step - accuracy: 0.8392 - loss: 0.3910 - val_accuracy: 0.8300 - val_loss: 0.4058\n",
            "Epoch 89/100\n",
            "\u001b[1m640/640\u001b[0m \u001b[32m━━━━━━━━━━━━━━━━━━━━\u001b[0m\u001b[37m\u001b[0m \u001b[1m3s\u001b[0m 4ms/step - accuracy: 0.8280 - loss: 0.4115 - val_accuracy: 0.8281 - val_loss: 0.4067\n",
            "Epoch 90/100\n",
            "\u001b[1m640/640\u001b[0m \u001b[32m━━━━━━━━━━━━━━━━━━━━\u001b[0m\u001b[37m\u001b[0m \u001b[1m2s\u001b[0m 4ms/step - accuracy: 0.8436 - loss: 0.3885 - val_accuracy: 0.8294 - val_loss: 0.4052\n",
            "Epoch 91/100\n",
            "\u001b[1m640/640\u001b[0m \u001b[32m━━━━━━━━━━━━━━━━━━━━\u001b[0m\u001b[37m\u001b[0m \u001b[1m2s\u001b[0m 3ms/step - accuracy: 0.8489 - loss: 0.3857 - val_accuracy: 0.8294 - val_loss: 0.4058\n",
            "Epoch 92/100\n",
            "\u001b[1m640/640\u001b[0m \u001b[32m━━━━━━━━━━━━━━━━━━━━\u001b[0m\u001b[37m\u001b[0m \u001b[1m3s\u001b[0m 3ms/step - accuracy: 0.8301 - loss: 0.4134 - val_accuracy: 0.8275 - val_loss: 0.4066\n",
            "Epoch 93/100\n",
            "\u001b[1m640/640\u001b[0m \u001b[32m━━━━━━━━━━━━━━━━━━━━\u001b[0m\u001b[37m\u001b[0m \u001b[1m2s\u001b[0m 3ms/step - accuracy: 0.8399 - loss: 0.3992 - val_accuracy: 0.8306 - val_loss: 0.4056\n",
            "Epoch 94/100\n",
            "\u001b[1m640/640\u001b[0m \u001b[32m━━━━━━━━━━━━━━━━━━━━\u001b[0m\u001b[37m\u001b[0m \u001b[1m3s\u001b[0m 4ms/step - accuracy: 0.8441 - loss: 0.3927 - val_accuracy: 0.8300 - val_loss: 0.4055\n",
            "Epoch 95/100\n",
            "\u001b[1m640/640\u001b[0m \u001b[32m━━━━━━━━━━━━━━━━━━━━\u001b[0m\u001b[37m\u001b[0m \u001b[1m2s\u001b[0m 3ms/step - accuracy: 0.8347 - loss: 0.4041 - val_accuracy: 0.8300 - val_loss: 0.4060\n",
            "Epoch 96/100\n",
            "\u001b[1m640/640\u001b[0m \u001b[32m━━━━━━━━━━━━━━━━━━━━\u001b[0m\u001b[37m\u001b[0m \u001b[1m2s\u001b[0m 3ms/step - accuracy: 0.8395 - loss: 0.3867 - val_accuracy: 0.8294 - val_loss: 0.4054\n",
            "Epoch 97/100\n",
            "\u001b[1m640/640\u001b[0m \u001b[32m━━━━━━━━━━━━━━━━━━━━\u001b[0m\u001b[37m\u001b[0m \u001b[1m2s\u001b[0m 4ms/step - accuracy: 0.8331 - loss: 0.4049 - val_accuracy: 0.8313 - val_loss: 0.4055\n",
            "Epoch 98/100\n",
            "\u001b[1m640/640\u001b[0m \u001b[32m━━━━━━━━━━━━━━━━━━━━\u001b[0m\u001b[37m\u001b[0m \u001b[1m3s\u001b[0m 5ms/step - accuracy: 0.8392 - loss: 0.3971 - val_accuracy: 0.8300 - val_loss: 0.4062\n",
            "Epoch 99/100\n",
            "\u001b[1m640/640\u001b[0m \u001b[32m━━━━━━━━━━━━━━━━━━━━\u001b[0m\u001b[37m\u001b[0m \u001b[1m4s\u001b[0m 7ms/step - accuracy: 0.8270 - loss: 0.4072 - val_accuracy: 0.8306 - val_loss: 0.4053\n",
            "Epoch 100/100\n",
            "\u001b[1m640/640\u001b[0m \u001b[32m━━━━━━━━━━━━━━━━━━━━\u001b[0m\u001b[37m\u001b[0m \u001b[1m2s\u001b[0m 4ms/step - accuracy: 0.8378 - loss: 0.4002 - val_accuracy: 0.8319 - val_loss: 0.4069\n"
          ]
        }
      ]
    },
    {
      "cell_type": "code",
      "source": [
        "# Part 3 - Making the predictions and evaluating the model\n",
        "\n",
        "# Predicting the Test set results\n",
        "y_pred = classifier.predict(X_test)\n",
        "y_pred = (y_pred > 0.5)"
      ],
      "metadata": {
        "colab": {
          "base_uri": "https://localhost:8080/"
        },
        "id": "KJJXgh7v7se3",
        "outputId": "a6fb12b9-8835-4af0-ee9b-dc1338b376e2"
      },
      "execution_count": 71,
      "outputs": [
        {
          "output_type": "stream",
          "name": "stdout",
          "text": [
            "\u001b[1m63/63\u001b[0m \u001b[32m━━━━━━━━━━━━━━━━━━━━\u001b[0m\u001b[37m\u001b[0m \u001b[1m1s\u001b[0m 12ms/step\n"
          ]
        }
      ]
    },
    {
      "cell_type": "code",
      "source": [
        "# Making the Confusion Matrix\n",
        "from sklearn.metrics import confusion_matrix,accuracy_score\n",
        "cm = confusion_matrix(y_test, y_pred)\n",
        "accuracy=accuracy_score(y_test,y_pred)"
      ],
      "metadata": {
        "id": "k9iDQU3a9jxs"
      },
      "execution_count": 72,
      "outputs": []
    },
    {
      "cell_type": "code",
      "source": [],
      "metadata": {
        "id": "bRlLJiwI9oav"
      },
      "execution_count": null,
      "outputs": []
    }
  ]
}